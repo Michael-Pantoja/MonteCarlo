{
 "cells": [
  {
   "cell_type": "code",
   "execution_count": 1,
   "metadata": {},
   "outputs": [],
   "source": [
    "import matplotlib.pyplot as plt\n",
    "import random\n",
    "import ipywidgets as widgets"
   ]
  },
  {
   "cell_type": "code",
   "execution_count": 2,
   "metadata": {},
   "outputs": [],
   "source": [
    "def plotting(n):\n",
    "    insideCircleX = []\n",
    "    outsideCircleX = []\n",
    "    insideCircleY = []\n",
    "    outsideCircleY = []\n",
    "    for i in range(n):\n",
    "        x = random.uniform(-1, 1)\n",
    "        y = random.uniform(-1, 1)\n",
    "        if (x**2 + y**2) <= 1:\n",
    "            insideCircleX.append(x)\n",
    "            insideCircleY.append(y)\n",
    "        else:\n",
    "            outsideCircleX.append(x)\n",
    "            outsideCircleY.append(y)\n",
    "    approximation = 4 * ((len(insideCircleX)) / n)\n",
    "\n",
    "    plt.figure(figsize=(10,10))\n",
    "    plt.scatter(insideCircleX, insideCircleY, color = 'black', label = f'Approximation = {approximation}')\n",
    "    plt.scatter(outsideCircleX, outsideCircleY, color = 'red')\n",
    "    plt.title(f'n = {n} \\n', size = 20)\n",
    "    plt.xlim(-1,1)\n",
    "    plt.ylim(-1,1)\n",
    "    plt.legend(loc = 1, prop={'size' : 20})\n",
    "    plt.tight_layout()\n",
    "    plt.show()\n",
    "    \n",
    "    \n",
    "'''\n",
    "\n",
    "This is the area where you can change the lower and upper bounds by changing n values.\n",
    "The first value represents lower limit of the slider.\n",
    "The second value represents the upper limit of the slider\n",
    "The third value represents the steps the slider takes.\n",
    "\n",
    "'''\n",
    "    \n",
    "interactivePlot = widgets.interactive(plotting, n = (10, 10000, 10)) "
   ]
  },
  {
   "cell_type": "code",
   "execution_count": 3,
   "metadata": {},
   "outputs": [
    {
     "data": {
      "application/vnd.jupyter.widget-view+json": {
       "model_id": "0e6ce61ac0a34c52913c6d7d10e37b2f",
       "version_major": 2,
       "version_minor": 0
      },
      "text/plain": [
       "interactive(children=(IntSlider(value=5000, description='n', max=10000, min=10, step=10), Output()), _dom_clas…"
      ]
     },
     "metadata": {},
     "output_type": "display_data"
    }
   ],
   "source": [
    "interactivePlot # Call this if you want an interactive slider."
   ]
  },
  {
   "cell_type": "code",
   "execution_count": null,
   "metadata": {},
   "outputs": [],
   "source": [
    "#If you would like to manually enter a number. Call this function and change the value variable.\n",
    "\n",
    "value = 10\n",
    "\n",
    "plotting(value) "
   ]
  }
 ],
 "metadata": {
  "kernelspec": {
   "display_name": "Python 3",
   "language": "python",
   "name": "python3"
  },
  "language_info": {
   "codemirror_mode": {
    "name": "ipython",
    "version": 3
   },
   "file_extension": ".py",
   "mimetype": "text/x-python",
   "name": "python",
   "nbconvert_exporter": "python",
   "pygments_lexer": "ipython3",
   "version": "3.7.6"
  }
 },
 "nbformat": 4,
 "nbformat_minor": 4
}
